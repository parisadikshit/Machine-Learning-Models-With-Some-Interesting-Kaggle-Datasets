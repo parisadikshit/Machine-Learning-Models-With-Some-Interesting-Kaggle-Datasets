{
  "nbformat": 4,
  "nbformat_minor": 0,
  "metadata": {
    "kernelspec": {
      "display_name": "Python 3",
      "language": "python",
      "name": "python3"
    },
    "language_info": {
      "codemirror_mode": {
        "name": "ipython",
        "version": 3
      },
      "file_extension": ".py",
      "mimetype": "text/x-python",
      "name": "python",
      "nbconvert_exporter": "python",
      "pygments_lexer": "ipython3",
      "version": "3.6.9"
    },
    "colab": {
      "name": "Practical4.ipynb",
      "provenance": []
    }
  },
  "cells": [
    {
      "cell_type": "markdown",
      "metadata": {
        "id": "DsSa7ZMdv3sl"
      },
      "source": [
        "### Name : Shreya Dikshit\n",
        "### Roll no. : 22\n",
        "### Practical 4"
      ]
    },
    {
      "cell_type": "code",
      "metadata": {
        "id": "eaoFADIKv3ss"
      },
      "source": [
        "import numpy as np\n",
        "import matplotlib.pyplot as plt\n",
        "import pandas as pd\n",
        "%matplotlib inline"
      ],
      "execution_count": null,
      "outputs": []
    },
    {
      "cell_type": "markdown",
      "metadata": {
        "id": "v3eHuFMfv3su"
      },
      "source": [
        "## 1.Consider a dataset of power consumption containing (4 rows and 3 column). Take first two column as input and last column as output and print it accordingly. (data is attached herewith.)"
      ]
    },
    {
      "cell_type": "code",
      "metadata": {
        "id": "eqevTuEbv3sx",
        "outputId": "14ffd274-a15a-406c-8de3-d9b8415092ef"
      },
      "source": [
        "d = {'Outside Temperature':[10,5.0,4.5,6.0],'Persons in room':[2,42,31,35],'Power Requirement':[0.5,2.5,2.2,1.8]}\n",
        "dataset = pd.DataFrame(d)\n",
        "dataset"
      ],
      "execution_count": null,
      "outputs": [
        {
          "output_type": "execute_result",
          "data": {
            "text/html": [
              "<div>\n",
              "<style scoped>\n",
              "    .dataframe tbody tr th:only-of-type {\n",
              "        vertical-align: middle;\n",
              "    }\n",
              "\n",
              "    .dataframe tbody tr th {\n",
              "        vertical-align: top;\n",
              "    }\n",
              "\n",
              "    .dataframe thead th {\n",
              "        text-align: right;\n",
              "    }\n",
              "</style>\n",
              "<table border=\"1\" class=\"dataframe\">\n",
              "  <thead>\n",
              "    <tr style=\"text-align: right;\">\n",
              "      <th></th>\n",
              "      <th>Outside Temperature</th>\n",
              "      <th>Persons in room</th>\n",
              "      <th>Power Requirement</th>\n",
              "    </tr>\n",
              "  </thead>\n",
              "  <tbody>\n",
              "    <tr>\n",
              "      <th>0</th>\n",
              "      <td>10.0</td>\n",
              "      <td>2</td>\n",
              "      <td>0.5</td>\n",
              "    </tr>\n",
              "    <tr>\n",
              "      <th>1</th>\n",
              "      <td>5.0</td>\n",
              "      <td>42</td>\n",
              "      <td>2.5</td>\n",
              "    </tr>\n",
              "    <tr>\n",
              "      <th>2</th>\n",
              "      <td>4.5</td>\n",
              "      <td>31</td>\n",
              "      <td>2.2</td>\n",
              "    </tr>\n",
              "    <tr>\n",
              "      <th>3</th>\n",
              "      <td>6.0</td>\n",
              "      <td>35</td>\n",
              "      <td>1.8</td>\n",
              "    </tr>\n",
              "  </tbody>\n",
              "</table>\n",
              "</div>"
            ],
            "text/plain": [
              "   Outside Temperature  Persons in room  Power Requirement\n",
              "0                 10.0                2                0.5\n",
              "1                  5.0               42                2.5\n",
              "2                  4.5               31                2.2\n",
              "3                  6.0               35                1.8"
            ]
          },
          "metadata": {
            "tags": []
          },
          "execution_count": 2
        }
      ]
    },
    {
      "cell_type": "markdown",
      "metadata": {
        "id": "vWqj4cIhv3sy"
      },
      "source": [
        "## 2. Reshape the input data to for computing multivariate regression coefficient by appending 1 Print the reshape input data."
      ]
    },
    {
      "cell_type": "code",
      "metadata": {
        "id": "LS_UBQoRv3s0",
        "outputId": "5613dd65-4f76-45f1-c521-f78ff28850b1"
      },
      "source": [
        "X = dataset.drop('Power Requirement', axis=1).values\n",
        "Y = dataset['Power Requirement'].values\n",
        "X"
      ],
      "execution_count": null,
      "outputs": [
        {
          "output_type": "execute_result",
          "data": {
            "text/plain": [
              "array([[10. ,  2. ],\n",
              "       [ 5. , 42. ],\n",
              "       [ 4.5, 31. ],\n",
              "       [ 6. , 35. ]])"
            ]
          },
          "metadata": {
            "tags": []
          },
          "execution_count": 3
        }
      ]
    },
    {
      "cell_type": "code",
      "metadata": {
        "id": "8z_WjMW5v3s1"
      },
      "source": [
        "def reshape_features(x):\n",
        "    x.reshape(-1,1)\n",
        "    ones = np.ones(shape=x.shape[0]).reshape(-1,1)\n",
        "    return np.concatenate((ones,x),1)"
      ],
      "execution_count": null,
      "outputs": []
    },
    {
      "cell_type": "code",
      "metadata": {
        "id": "gl6thDWwv3s2",
        "outputId": "2ae0d8d1-24cf-44d4-8660-bc1ced6d3427"
      },
      "source": [
        "X = reshape_features(X)\n",
        "X"
      ],
      "execution_count": null,
      "outputs": [
        {
          "output_type": "execute_result",
          "data": {
            "text/plain": [
              "array([[ 1. , 10. ,  2. ],\n",
              "       [ 1. ,  5. , 42. ],\n",
              "       [ 1. ,  4.5, 31. ],\n",
              "       [ 1. ,  6. , 35. ]])"
            ]
          },
          "metadata": {
            "tags": []
          },
          "execution_count": 5
        }
      ]
    },
    {
      "cell_type": "markdown",
      "metadata": {
        "id": "ZDX1ACPRv3s3"
      },
      "source": [
        "## 3.Define the function for computing the regression coefficients. Print out the coefficients."
      ]
    },
    {
      "cell_type": "code",
      "metadata": {
        "id": "gXTd73aYv3s4",
        "outputId": "1c23f3e2-647a-48f2-a0e7-2c6e7f00524b"
      },
      "source": [
        "def find_coeffs(X,Y):\n",
        "    return np.linalg.inv(X.transpose().dot(X)).dot(X.transpose()).dot(Y)\n",
        "coefficients = find_coeffs(X,Y)\n",
        "print(\"coefficients:\",coefficients)"
      ],
      "execution_count": null,
      "outputs": [
        {
          "output_type": "stream",
          "text": [
            "coefficients: [ 2.49761588 -0.20751687  0.02092015]\n"
          ],
          "name": "stdout"
        }
      ]
    },
    {
      "cell_type": "markdown",
      "metadata": {
        "id": "2roiot9Uv3s6"
      },
      "source": [
        "## 4.Define the function for computing energy consumption for given regression coefficients and new input data."
      ]
    },
    {
      "cell_type": "code",
      "metadata": {
        "id": "j5S_1V2Cv3s8"
      },
      "source": [
        "def predicting(X):\n",
        "    b0 = coefficients[0]\n",
        "    other_coefficients= coefficients[1:]\n",
        "    pred = b0\n",
        "    for xi,bi in zip(X,other_coefficients):\n",
        "        pred+=(bi*xi)\n",
        "    return pred"
      ],
      "execution_count": null,
      "outputs": []
    },
    {
      "cell_type": "code",
      "metadata": {
        "id": "5ZEh5nFfv3s8",
        "outputId": "dd3f0988-4367-4f13-8f9b-07361c67cd1b"
      },
      "source": [
        "predicting([10,2])"
      ],
      "execution_count": null,
      "outputs": [
        {
          "output_type": "execute_result",
          "data": {
            "text/plain": [
              "0.46428747352347693"
            ]
          },
          "metadata": {
            "tags": []
          },
          "execution_count": 8
        }
      ]
    },
    {
      "cell_type": "markdown",
      "metadata": {
        "id": "aylCXZpSv3s9"
      },
      "source": [
        "## 5.Print the energy consumed for given data (temp=7.5, #person=131). Try with 3 more new values of temp and person."
      ]
    },
    {
      "cell_type": "code",
      "metadata": {
        "id": "oRWQZPejv3s9",
        "outputId": "62656da0-ea2d-4ae7-c704-7a36ae7d8732"
      },
      "source": [
        "print(predicting([7.5,131]))\n"
      ],
      "execution_count": null,
      "outputs": [
        {
          "output_type": "stream",
          "text": [
            "3.681779222698337\n"
          ],
          "name": "stdout"
        }
      ]
    },
    {
      "cell_type": "code",
      "metadata": {
        "id": "SsokXPa8v3s-",
        "outputId": "baa89c4a-3706-4204-ac17-df69ea7aa4b2"
      },
      "source": [
        "print(predicting([10,23]))"
      ],
      "execution_count": null,
      "outputs": [
        {
          "output_type": "stream",
          "text": [
            "0.9036106595734146\n"
          ],
          "name": "stdout"
        }
      ]
    },
    {
      "cell_type": "code",
      "metadata": {
        "id": "hY9pY3T9v3s_",
        "outputId": "eab8bef1-02aa-4c77-e8a4-d1dcc6d2b3a6"
      },
      "source": [
        "print(predicting([2,10]))"
      ],
      "execution_count": null,
      "outputs": [
        {
          "output_type": "stream",
          "text": [
            "2.291783655977564\n"
          ],
          "name": "stdout"
        }
      ]
    },
    {
      "cell_type": "markdown",
      "metadata": {
        "id": "k1Ccoc5rv3tA"
      },
      "source": [
        "## 6. Create your own random data containing (10 rows and 3 columns) for predicting the computer system price. (first column for Ram capacity (in GB), second column for Hard disk capacity (in GB) and third column for price of computer (in Rs)). Print the data."
      ]
    },
    {
      "cell_type": "code",
      "metadata": {
        "id": "89qhGqvlv3tA",
        "outputId": "9cef2207-e07d-48c2-b729-491008761f49"
      },
      "source": [
        "f ={'RamCapacity':[8,16,4,2,6,8,16,2,16,4],\n",
        "    'HardDiskCapacity':[20,14,15,20,16,12,15,18,20,22],\n",
        "    'Price':[20000,40000,50000,30000,20000,30000,20000,10000,45000,34000]\n",
        "    \n",
        "}\n",
        "fset = pd.DataFrame(f)\n",
        "fset"
      ],
      "execution_count": null,
      "outputs": [
        {
          "output_type": "execute_result",
          "data": {
            "text/html": [
              "<div>\n",
              "<style scoped>\n",
              "    .dataframe tbody tr th:only-of-type {\n",
              "        vertical-align: middle;\n",
              "    }\n",
              "\n",
              "    .dataframe tbody tr th {\n",
              "        vertical-align: top;\n",
              "    }\n",
              "\n",
              "    .dataframe thead th {\n",
              "        text-align: right;\n",
              "    }\n",
              "</style>\n",
              "<table border=\"1\" class=\"dataframe\">\n",
              "  <thead>\n",
              "    <tr style=\"text-align: right;\">\n",
              "      <th></th>\n",
              "      <th>RamCapacity</th>\n",
              "      <th>HardDiskCapacity</th>\n",
              "      <th>Price</th>\n",
              "    </tr>\n",
              "  </thead>\n",
              "  <tbody>\n",
              "    <tr>\n",
              "      <th>0</th>\n",
              "      <td>8</td>\n",
              "      <td>20</td>\n",
              "      <td>20000</td>\n",
              "    </tr>\n",
              "    <tr>\n",
              "      <th>1</th>\n",
              "      <td>16</td>\n",
              "      <td>14</td>\n",
              "      <td>40000</td>\n",
              "    </tr>\n",
              "    <tr>\n",
              "      <th>2</th>\n",
              "      <td>4</td>\n",
              "      <td>15</td>\n",
              "      <td>50000</td>\n",
              "    </tr>\n",
              "    <tr>\n",
              "      <th>3</th>\n",
              "      <td>2</td>\n",
              "      <td>20</td>\n",
              "      <td>30000</td>\n",
              "    </tr>\n",
              "    <tr>\n",
              "      <th>4</th>\n",
              "      <td>6</td>\n",
              "      <td>16</td>\n",
              "      <td>20000</td>\n",
              "    </tr>\n",
              "    <tr>\n",
              "      <th>5</th>\n",
              "      <td>8</td>\n",
              "      <td>12</td>\n",
              "      <td>30000</td>\n",
              "    </tr>\n",
              "    <tr>\n",
              "      <th>6</th>\n",
              "      <td>16</td>\n",
              "      <td>15</td>\n",
              "      <td>20000</td>\n",
              "    </tr>\n",
              "    <tr>\n",
              "      <th>7</th>\n",
              "      <td>2</td>\n",
              "      <td>18</td>\n",
              "      <td>10000</td>\n",
              "    </tr>\n",
              "    <tr>\n",
              "      <th>8</th>\n",
              "      <td>16</td>\n",
              "      <td>20</td>\n",
              "      <td>45000</td>\n",
              "    </tr>\n",
              "    <tr>\n",
              "      <th>9</th>\n",
              "      <td>4</td>\n",
              "      <td>22</td>\n",
              "      <td>34000</td>\n",
              "    </tr>\n",
              "  </tbody>\n",
              "</table>\n",
              "</div>"
            ],
            "text/plain": [
              "   RamCapacity  HardDiskCapacity  Price\n",
              "0            8                20  20000\n",
              "1           16                14  40000\n",
              "2            4                15  50000\n",
              "3            2                20  30000\n",
              "4            6                16  20000\n",
              "5            8                12  30000\n",
              "6           16                15  20000\n",
              "7            2                18  10000\n",
              "8           16                20  45000\n",
              "9            4                22  34000"
            ]
          },
          "metadata": {
            "tags": []
          },
          "execution_count": 12
        }
      ]
    },
    {
      "cell_type": "markdown",
      "metadata": {
        "id": "Gt2IvFKQv3tA"
      },
      "source": [
        "## 7. Define the function for computing multivariate regression coefficient for give data (computer price prediction). Print out the coefficients. "
      ]
    },
    {
      "cell_type": "code",
      "metadata": {
        "id": "EmWz8Oziv3tB"
      },
      "source": [
        "X = fset.drop('Price',axis=1).values\n",
        "Y = fset['Price'].values"
      ],
      "execution_count": null,
      "outputs": []
    },
    {
      "cell_type": "code",
      "metadata": {
        "id": "IfheCEYFv3tC"
      },
      "source": [
        "def reshape_(x):\n",
        "    x.reshape(-1,1)\n",
        "    ones = np.ones(shape=x.shape[0]).reshape(-1,1)\n",
        "    return np.concatenate((ones,x),1)\n"
      ],
      "execution_count": null,
      "outputs": []
    },
    {
      "cell_type": "code",
      "metadata": {
        "id": "IXP2ck9Bv3tC",
        "outputId": "cbcbabc2-4be5-4a9f-eedc-e68006185d1a"
      },
      "source": [
        "\n",
        "def find_coeff_(X,Y):\n",
        "    return np.linalg.inv(X.transpose().dot(X)).dot(X.transpose()).dot(Y)\n",
        "\n",
        "X = reshape_(X)\n",
        "coeffs = find_coeff_(X,Y)\n",
        "print(coeffs)"
      ],
      "execution_count": null,
      "outputs": [
        {
          "output_type": "stream",
          "text": [
            "[24803.9660404    553.51396083    32.39648144]\n"
          ],
          "name": "stdout"
        }
      ]
    },
    {
      "cell_type": "markdown",
      "metadata": {
        "id": "A3vOZRiov3tC"
      },
      "source": [
        "## 8. Predict the price of computer for different values of RAM & HD in (GB). Print the output (Price of computer) for three unknown pair of RAM & HD."
      ]
    },
    {
      "cell_type": "code",
      "metadata": {
        "id": "3Xw6AzQsv3tD",
        "outputId": "193e5ff0-b023-4881-9b46-bd8bc2121cf9"
      },
      "source": [
        "def pred_(X):\n",
        "    b0 = coeffs[0]\n",
        "    other_coeffs = coeffs[1:]\n",
        "    pred = b0\n",
        "    for xi,bi in zip(X,other_coeffs):\n",
        "        pred+=(bi*xi)\n",
        "    return pred\n",
        "\n",
        "print(pred_([8,20]))\n",
        "print(pred_([4,20]))\n",
        "print(pred_([16,14]))"
      ],
      "execution_count": null,
      "outputs": [
        {
          "output_type": "stream",
          "text": [
            "29880.0073558707\n",
            "27665.951512550753\n",
            "34113.740153860075\n"
          ],
          "name": "stdout"
        }
      ]
    },
    {
      "cell_type": "code",
      "metadata": {
        "id": "isvO35qkv3tE"
      },
      "source": [
        ""
      ],
      "execution_count": null,
      "outputs": []
    },
    {
      "cell_type": "code",
      "metadata": {
        "id": "rTfKC0Evv3tE"
      },
      "source": [
        ""
      ],
      "execution_count": null,
      "outputs": []
    },
    {
      "cell_type": "markdown",
      "metadata": {
        "id": "scCnT1ztv3tE"
      },
      "source": [
        "## 9.Read the insur-2d.csv file using Pandas library. Print the head values. Print the column values. Print the length of data."
      ]
    },
    {
      "cell_type": "code",
      "metadata": {
        "id": "vO3mDDeov3tF",
        "outputId": "e9dd9f44-9707-44d6-8711-54cc8792aceb"
      },
      "source": [
        "data = pd.read_csv('./data/insur-2d.csv')\n",
        "data.head()"
      ],
      "execution_count": null,
      "outputs": [
        {
          "output_type": "execute_result",
          "data": {
            "text/html": [
              "<div>\n",
              "<style scoped>\n",
              "    .dataframe tbody tr th:only-of-type {\n",
              "        vertical-align: middle;\n",
              "    }\n",
              "\n",
              "    .dataframe tbody tr th {\n",
              "        vertical-align: top;\n",
              "    }\n",
              "\n",
              "    .dataframe thead th {\n",
              "        text-align: right;\n",
              "    }\n",
              "</style>\n",
              "<table border=\"1\" class=\"dataframe\">\n",
              "  <thead>\n",
              "    <tr style=\"text-align: right;\">\n",
              "      <th></th>\n",
              "      <th>108</th>\n",
              "      <th>392</th>\n",
              "      <th>5</th>\n",
              "    </tr>\n",
              "  </thead>\n",
              "  <tbody>\n",
              "    <tr>\n",
              "      <th>0</th>\n",
              "      <td>19</td>\n",
              "      <td>46</td>\n",
              "      <td>2</td>\n",
              "    </tr>\n",
              "    <tr>\n",
              "      <th>1</th>\n",
              "      <td>13</td>\n",
              "      <td>15</td>\n",
              "      <td>7</td>\n",
              "    </tr>\n",
              "    <tr>\n",
              "      <th>2</th>\n",
              "      <td>124</td>\n",
              "      <td>422</td>\n",
              "      <td>2</td>\n",
              "    </tr>\n",
              "    <tr>\n",
              "      <th>3</th>\n",
              "      <td>40</td>\n",
              "      <td>119</td>\n",
              "      <td>4</td>\n",
              "    </tr>\n",
              "    <tr>\n",
              "      <th>4</th>\n",
              "      <td>57</td>\n",
              "      <td>170</td>\n",
              "      <td>9</td>\n",
              "    </tr>\n",
              "  </tbody>\n",
              "</table>\n",
              "</div>"
            ],
            "text/plain": [
              "   108  392  5\n",
              "0   19   46  2\n",
              "1   13   15  7\n",
              "2  124  422  2\n",
              "3   40  119  4\n",
              "4   57  170  9"
            ]
          },
          "metadata": {
            "tags": []
          },
          "execution_count": 17
        }
      ]
    },
    {
      "cell_type": "code",
      "metadata": {
        "id": "tioOiJqdv3tF",
        "outputId": "ca44be67-4c7f-4cf7-9b83-1bf23a0cbe7e"
      },
      "source": [
        "print(\"Columns of data:\",data.columns)\n",
        "print(\"Length of the data:\",data.shape[0])"
      ],
      "execution_count": null,
      "outputs": [
        {
          "output_type": "stream",
          "text": [
            "Columns of data: Index(['108', '392', '5'], dtype='object')\n",
            "Length of the data: 62\n"
          ],
          "name": "stdout"
        }
      ]
    },
    {
      "cell_type": "markdown",
      "metadata": {
        "id": "tGvJlquhv3tF"
      },
      "source": [
        "## 10.Compute the multivariate regression coefficient for given csv file data. Print the coefficients."
      ]
    },
    {
      "cell_type": "code",
      "metadata": {
        "id": "_qaEc42-v3tG"
      },
      "source": [
        "X = data.drop('5',axis=1).values\n",
        "Y = data['5'].values"
      ],
      "execution_count": null,
      "outputs": []
    },
    {
      "cell_type": "code",
      "metadata": {
        "id": "kg10SQ1gv3tG"
      },
      "source": [
        "def find_coeff(X,Y):\n",
        "    return np.linalg.inv(X.transpose().dot(X)).dot(X.transpose()).dot(Y)"
      ],
      "execution_count": null,
      "outputs": []
    },
    {
      "cell_type": "code",
      "metadata": {
        "id": "3Nig9jgbv3tG",
        "outputId": "6147f640-4319-4610-834d-17720710bc13"
      },
      "source": [
        "x = reshape_features(X)\n",
        "coeff = find_coeff(x,Y)\n",
        "print(\"Coefficients:\",coeff)"
      ],
      "execution_count": null,
      "outputs": [
        {
          "output_type": "stream",
          "text": [
            "Coefficients: [ 5.35320784  0.0210913  -0.00781811]\n"
          ],
          "name": "stdout"
        }
      ]
    },
    {
      "cell_type": "markdown",
      "metadata": {
        "id": "CuQdGcB3v3tG"
      },
      "source": [
        "## 11.Predict the three outputs for unknown three pair of inputs.  "
      ]
    },
    {
      "cell_type": "code",
      "metadata": {
        "id": "K61qFP8Jv3tH"
      },
      "source": [
        "def predict(X):\n",
        "    b0 = coeff[0]\n",
        "    other_coeff = coeff[1:]\n",
        "    pred = b0\n",
        "    for xi,bi in zip(X,other_coeff):\n",
        "        pred+=(bi*xi)\n",
        "    return pred"
      ],
      "execution_count": null,
      "outputs": []
    },
    {
      "cell_type": "code",
      "metadata": {
        "id": "IqgHe4bGv3tH",
        "outputId": "72db3016-8ce6-40df-8eea-f8acfdbbbedc"
      },
      "source": [
        "print(predict(X[1]))\n",
        "print(predict([1.,100.,400.]))\n",
        "X[0]"
      ],
      "execution_count": null,
      "outputs": [
        {
          "output_type": "stream",
          "text": [
            "5.510123071260105\n",
            "4.592488104022897\n"
          ],
          "name": "stdout"
        },
        {
          "output_type": "execute_result",
          "data": {
            "text/plain": [
              "array([19, 46])"
            ]
          },
          "metadata": {
            "tags": []
          },
          "execution_count": 23
        }
      ]
    },
    {
      "cell_type": "code",
      "metadata": {
        "id": "zfm5qWjTv3tI",
        "outputId": "e9ff4f2a-7a61-45ff-8b4a-97f2b4e7e822"
      },
      "source": [
        "print(predict([124,422]))"
      ],
      "execution_count": null,
      "outputs": [
        {
          "output_type": "stream",
          "text": [
            "4.669286308998233\n"
          ],
          "name": "stdout"
        }
      ]
    },
    {
      "cell_type": "markdown",
      "metadata": {
        "id": "CDUrQd1vv3tI"
      },
      "source": [
        "## 12.Print the 3D plot for given data of csv file using multivariate regression coefficients by fitting the hyperplane.\n"
      ]
    },
    {
      "cell_type": "code",
      "metadata": {
        "id": "KEw0PwJVv3tI",
        "outputId": "75164d9e-0f19-4d2e-8972-a4becc9dc516"
      },
      "source": [
        "Y =Y.reshape(-1,1)\n",
        "Y.shape"
      ],
      "execution_count": null,
      "outputs": [
        {
          "output_type": "execute_result",
          "data": {
            "text/plain": [
              "(62, 1)"
            ]
          },
          "metadata": {
            "tags": []
          },
          "execution_count": 25
        }
      ]
    },
    {
      "cell_type": "code",
      "metadata": {
        "id": "J5ZDNCB-v3tJ",
        "outputId": "3fc199a1-50fd-4008-ebb5-6b38b9051bf3"
      },
      "source": [
        "from matplotlib import cm\n",
        "import matplotlib.pyplot as plt\n",
        "from mpl_toolkits.mplot3d import Axes3D\n",
        "fig = plt.figure()\n",
        "ax = plt.axes(projection='3d')\n",
        "ax.plot_surface(data['108'], data['392'],Y,cmap='viridis')\n",
        "ax.set_xlabel('X1')\n",
        "ax.set_ylabel('X2')\n",
        "ax.set_zlabel('Target')\n",
        "ax.set_title('3d plot')"
      ],
      "execution_count": null,
      "outputs": [
        {
          "output_type": "execute_result",
          "data": {
            "text/plain": [
              "Text(0.5, 0.92, '3d plot')"
            ]
          },
          "metadata": {
            "tags": []
          },
          "execution_count": 26
        },
        {
          "output_type": "display_data",
          "data": {
            "image/png": "[encoded data removed]",
            "text/plain": [
              "<Figure size 432x288 with 1 Axes>"
            ]
          },
          "metadata": {
            "tags": [],
            "needs_background": "light"
          }
        }
      ]
    },
    {
      "cell_type": "code",
      "metadata": {
        "id": "5EgO5aC9v3tJ"
      },
      "source": [
        ""
      ],
      "execution_count": null,
      "outputs": []
    }
  ]
}